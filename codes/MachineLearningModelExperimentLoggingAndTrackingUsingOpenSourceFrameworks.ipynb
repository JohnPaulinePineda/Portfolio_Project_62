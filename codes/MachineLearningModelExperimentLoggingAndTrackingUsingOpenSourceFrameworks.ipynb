{
 "cells": [
  {
   "cell_type": "markdown",
   "id": "bfd31eef",
   "metadata": {},
   "source": [
    "***\n",
    "# Model Deployment : Machine Learning Model Experiment Logging and Tracking Using Open-Source Frameworks"
   ]
  },
  {
   "cell_type": "markdown",
   "id": "1cff54e4",
   "metadata": {},
   "source": [
    "***\n",
    "### [**John Pauline Pineda**](https://github.com/JohnPaulinePineda) <br> <br> *July 12, 2025*\n",
    "***"
   ]
  },
  {
   "cell_type": "markdown",
   "id": "7e4f927a",
   "metadata": {},
   "source": [
    "* [**1. Table of Contents**](#TOC)\n",
    "    * [1.1 Data Background](#1.1)\n",
    "    * [1.2 Data Description](#1.2)\n",
    "    * [1.3 Data Quality Assessment](#1.3)\n",
    "    * [1.4 Data Preprocessing](#1.4)\n",
    "        * [1.4.1 Data Splitting](#1.4.1)\n",
    "        * [1.4.2 Data Profiling](#1.4.2)\n",
    "        * [1.4.3 Category Aggregation and Encoding](#1.4.3)\n",
    "        * [1.4.4 Outlier and Distributional Shape Analysis](#1.4.4)\n",
    "        * [1.4.5 Collinearity](#1.4.5)\n",
    "    * [1.5 Data Exploration](#1.5)\n",
    "        * [1.5.1 Exploratory Data Analysis](#1.5.1)\n",
    "        * [1.5.2 Hypothesis Testing](#1.5.2)\n",
    "    * [1.6 Premodelling Data Preparation](#1.6)\n",
    "        * [1.6.1 Preprocessed Data Description](#1.6.1)\n",
    "        * [1.6.2 Preprocessing Pipeline Development](#1.6.2)\n",
    "    * [1.7 Bagged Model Development, Logging and Tracking](#1.7)\n",
    "        * [1.7.1 Random Forest](#1.7.1)\n",
    "        * [1.7.2 Extra Trees](#1.7.2)\n",
    "        * [1.7.3 Bagged Decision Trees](#1.7.3)\n",
    "        * [1.7.4 Bagged Logistic Regression](#1.7.4)\n",
    "        * [1.7.5 Bagged Support Vector Machine](#1.7.5)\n",
    "    * [1.8 Boosted Model Development, Logging and Tracking](#1.8)\n",
    "        * [1.8.1 AdaBoost](#1.8.1)\n",
    "        * [1.8.2 Gradient Boosting](#1.8.2)\n",
    "        * [1.8.3 XGBoost](#1.8.3)\n",
    "        * [1.8.4 Light GBM](#1.8.4)\n",
    "        * [1.8.5 CatBoost](#1.8.5)\n",
    "    * [1.9 Artifact Storage](#1.9)\n",
    "    * [1.10 Run Comparison](#1.9)\n",
    "    * [1.11 Experiment Organization](#1.9)\n",
    "    * [1.12 Consolidated Findings](#1.9)\n",
    "* [**2. Summary**](#Summary)   \n",
    "* [**3. References**](#References)\n",
    "\n",
    "***"
   ]
  },
  {
   "cell_type": "markdown",
   "id": "8800be32",
   "metadata": {},
   "source": [
    "# 1. Table of Contents <a class=\"anchor\" id=\"TOC\"></a>"
   ]
  },
  {
   "cell_type": "markdown",
   "id": "64f00806",
   "metadata": {},
   "source": [
    "## 1.1. Data Background <a class=\"anchor\" id=\"1.1\"></a>"
   ]
  },
  {
   "cell_type": "markdown",
   "id": "72352a2b",
   "metadata": {},
   "source": [
    "## 1.2. Data Description <a class=\"anchor\" id=\"1.2\"></a>"
   ]
  },
  {
   "cell_type": "markdown",
   "id": "cc69b9c9",
   "metadata": {},
   "source": [
    "## 1.3. Data Quality Assessment <a class=\"anchor\" id=\"1.3\"></a>"
   ]
  },
  {
   "cell_type": "markdown",
   "id": "1aba3cce",
   "metadata": {},
   "source": [
    "## 1.4. Data Preprocessing <a class=\"anchor\" id=\"1.4\"></a>"
   ]
  },
  {
   "cell_type": "markdown",
   "id": "b530a8c6",
   "metadata": {},
   "source": [
    "### 1.4.1 Data Splitting<a class=\"anchor\" id=\"1.4.1\"></a>"
   ]
  },
  {
   "cell_type": "markdown",
   "id": "73be5023",
   "metadata": {},
   "source": [
    "### 1.4.2 Data Profiling<a class=\"anchor\" id=\"1.4.2\"></a>"
   ]
  },
  {
   "cell_type": "markdown",
   "id": "6d5b37ea",
   "metadata": {},
   "source": [
    "### 1.4.3 Category Aggregation and Encoding<a class=\"anchor\" id=\"1.4.3\"></a>"
   ]
  },
  {
   "cell_type": "markdown",
   "id": "d98a8226",
   "metadata": {},
   "source": [
    "### 1.4.4 Outlier and Distributional Shape Analysis<a class=\"anchor\" id=\"1.4.4\"></a>"
   ]
  },
  {
   "cell_type": "markdown",
   "id": "429d72bc",
   "metadata": {},
   "source": [
    "### 1.4.5 Collinearity<a class=\"anchor\" id=\"1.4.5\"></a>"
   ]
  },
  {
   "cell_type": "markdown",
   "id": "832dc546",
   "metadata": {},
   "source": [
    "## 1.5. Data Exploration <a class=\"anchor\" id=\"1.5\"></a>"
   ]
  },
  {
   "cell_type": "markdown",
   "id": "46a63954",
   "metadata": {},
   "source": [
    "### 1.5.1 Exploratory Data Analysis<a class=\"anchor\" id=\"1.5.1\"></a>"
   ]
  },
  {
   "cell_type": "markdown",
   "id": "95eda68a",
   "metadata": {},
   "source": [
    "### 1.5.2 Hypothesis Testing<a class=\"anchor\" id=\"1.5.2\"></a>"
   ]
  },
  {
   "cell_type": "markdown",
   "id": "890f80ac",
   "metadata": {},
   "source": [
    "## 1.6. Premodelling Data Preparation <a class=\"anchor\" id=\"1.6\"></a>"
   ]
  },
  {
   "cell_type": "markdown",
   "id": "aaeb29f3",
   "metadata": {},
   "source": [
    "### 1.6.1 Preprocessed Data Description<a class=\"anchor\" id=\"1.6.1\"></a>"
   ]
  },
  {
   "cell_type": "markdown",
   "id": "d0a4573f",
   "metadata": {},
   "source": [
    "### 1.6.2 Preprocessing Pipeline Development<a class=\"anchor\" id=\"1.6.2\"></a>"
   ]
  },
  {
   "cell_type": "markdown",
   "id": "a3120844",
   "metadata": {},
   "source": [
    "## 1.7. Bagged Model Development, Logging and Tracking <a class=\"anchor\" id=\"1.7\"></a>"
   ]
  },
  {
   "cell_type": "markdown",
   "id": "55709e77",
   "metadata": {},
   "source": [
    "### 1.7.1 Random Forest<a class=\"anchor\" id=\"1.7.1\"></a>"
   ]
  },
  {
   "cell_type": "markdown",
   "id": "ee458ea2",
   "metadata": {},
   "source": [
    "### 1.7.2 Extra Trees<a class=\"anchor\" id=\"1.7.2\"></a>"
   ]
  },
  {
   "cell_type": "markdown",
   "id": "d6014910",
   "metadata": {},
   "source": [
    "### 1.7.3 Bagged Decision Trees<a class=\"anchor\" id=\"1.7.3\"></a>"
   ]
  },
  {
   "cell_type": "markdown",
   "id": "397458b0",
   "metadata": {},
   "source": [
    "### 1.7.4 Bagged Logistic Regression<a class=\"anchor\" id=\"1.7.4\"></a>"
   ]
  },
  {
   "cell_type": "markdown",
   "id": "403ae261",
   "metadata": {},
   "source": [
    "### 1.7.5 Bagged Support Vector Machine<a class=\"anchor\" id=\"1.7.5\"></a>"
   ]
  },
  {
   "cell_type": "markdown",
   "id": "e0e47c70",
   "metadata": {},
   "source": [
    "## 1.8. Boosted Model Development, Logging and Tracking <a class=\"anchor\" id=\"1.8\"></a>"
   ]
  },
  {
   "cell_type": "markdown",
   "id": "89b7d52d",
   "metadata": {},
   "source": [
    "### 1.8.1 Random Forest<a class=\"anchor\" id=\"1.8.1\"></a>"
   ]
  },
  {
   "cell_type": "markdown",
   "id": "014d889e",
   "metadata": {},
   "source": [
    "### 1.8.2 Extra Trees<a class=\"anchor\" id=\"1.8.2\"></a>"
   ]
  },
  {
   "cell_type": "markdown",
   "id": "1e59604e",
   "metadata": {},
   "source": [
    "### 1.8.3 Bagged Decision Trees<a class=\"anchor\" id=\"1.8.3\"></a>"
   ]
  },
  {
   "cell_type": "markdown",
   "id": "a7633580",
   "metadata": {},
   "source": [
    "### 1.8.4 Bagged Logistic Regression<a class=\"anchor\" id=\"1.8.4\"></a>"
   ]
  },
  {
   "cell_type": "markdown",
   "id": "27fe84bd",
   "metadata": {},
   "source": [
    "### 1.8.5 Bagged Support Vector Machine<a class=\"anchor\" id=\"1.8.5\"></a>"
   ]
  },
  {
   "cell_type": "markdown",
   "id": "c7fc6cfe",
   "metadata": {},
   "source": [
    "## 1.9. Artifact Storage <a class=\"anchor\" id=\"1.9\"></a>"
   ]
  },
  {
   "cell_type": "markdown",
   "id": "6132739c",
   "metadata": {},
   "source": [
    "## 1.10. Run Comparison <a class=\"anchor\" id=\"1.10\"></a>"
   ]
  },
  {
   "cell_type": "markdown",
   "id": "aa49d86e",
   "metadata": {},
   "source": [
    "## 1.11. Experiment Organization <a class=\"anchor\" id=\"1.11\"></a>"
   ]
  },
  {
   "cell_type": "markdown",
   "id": "031106af",
   "metadata": {},
   "source": [
    "## 1.12. Consolidated Findings <a class=\"anchor\" id=\"1.12\"></a>"
   ]
  },
  {
   "cell_type": "markdown",
   "id": "d889a50b",
   "metadata": {},
   "source": [
    "# 2. Summary <a class=\"anchor\" id=\"Summary\"></a>"
   ]
  },
  {
   "cell_type": "markdown",
   "id": "2fe2660d",
   "metadata": {},
   "source": [
    "# 3. References <a class=\"anchor\" id=\"References\"></a>"
   ]
  }
 ],
 "metadata": {
  "kernelspec": {
   "display_name": "mlexplore_venv",
   "language": "python",
   "name": "python3"
  },
  "language_info": {
   "name": "python",
   "version": "3.12.5"
  }
 },
 "nbformat": 4,
 "nbformat_minor": 5
}

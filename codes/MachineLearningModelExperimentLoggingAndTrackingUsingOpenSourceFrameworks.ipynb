{
 "cells": [
  {
   "cell_type": "markdown",
   "id": "bfd31eef",
   "metadata": {},
   "source": [
    "***\n",
    "# Model Deployment : Machine Learning Model Experiment Logging and Tracking Using Open-Source Frameworks"
   ]
  },
  {
   "cell_type": "markdown",
   "id": "1cff54e4",
   "metadata": {},
   "source": [
    "***\n",
    "### [**John Pauline Pineda**](https://github.com/JohnPaulinePineda) <br> <br> *July 12, 2025*\n",
    "***"
   ]
  },
  {
   "cell_type": "markdown",
   "id": "7e4f927a",
   "metadata": {},
   "source": [
    "* [**1. Table of Contents**](#TOC)\n",
    "    * [1.1 Data Background](#1.1)\n",
    "    * [1.2 Data Description](#1.2)\n",
    "    * [1.3 Data Quality Assessment](#1.3)\n",
    "    * [1.4 Data Preprocessing](#1.4)\n",
    "        * [1.4.1 Data Splitting](#1.4.1)\n",
    "        * [1.4.2 Data Profiling](#1.4.2)\n",
    "        * [1.4.3 Category Aggregation and Encoding](#1.4.3)\n",
    "        * [1.4.4 Outlier and Distributional Shape Analysis](#1.4.4)\n",
    "        * [1.4.5 Collinearity](#1.4.5)\n",
    "    * [1.5 Data Exploration](#1.5)\n",
    "        * [1.5.1 Exploratory Data Analysis](#1.5.1)\n",
    "        * [1.5.2 Hypothesis Testing](#1.5.2)\n",
    "    * [1.6 Premodelling Data Preparation](#1.6)\n",
    "        * [1.6.1 Preprocessed Data Description](#1.6.1)\n",
    "        * [1.6.2 Preprocessing Pipeline Development](#1.6.2)\n",
    "    * [1.7 Bagged Model Development, Logging and Tracking](#1.7)\n",
    "        * [1.7.1 Random Forest](#1.7.1)\n",
    "        * [1.7.2 Extra Trees](#1.7.2)\n",
    "        * [1.7.3 Bagged Decision Trees](#1.7.3)\n",
    "        * [1.7.4 Bagged Logistic Regression](#1.7.4)\n",
    "        * [1.7.5 Bagged Support Vector Machine](#1.7.5)\n",
    "    * [1.8 Boosted Model Development, Logging and Tracking](#1.8)\n",
    "        * [1.8.1 AdaBoost](#1.8.1)\n",
    "        * [1.8.2 Gradient Boosting](#1.8.2)\n",
    "        * [1.8.3 XGBoost](#1.8.3)\n",
    "        * [1.8.4 Light GBM](#1.8.4)\n",
    "        * [1.8.5 CatBoost](#1.8.5)\n",
    "    * [1.9 Artifact Storage](#1.9)\n",
    "    * [1.10 Run Comparison](#1.9)\n",
    "    * [1.11 Experiment Organization](#1.9)\n",
    "    * [1.12 Consolidated Findings](#1.9)\n",
    "* [**2. Summary**](#Summary)   \n",
    "* [**3. References**](#References)\n",
    "\n",
    "***"
   ]
  },
  {
   "cell_type": "markdown",
   "id": "8800be32",
   "metadata": {},
   "source": [
    "# 1. Table of Contents <a class=\"anchor\" id=\"TOC\"></a>"
   ]
  },
  {
   "cell_type": "markdown",
   "id": "d889a50b",
   "metadata": {},
   "source": [
    "# 2. Summary <a class=\"anchor\" id=\"Summary\"></a>"
   ]
  },
  {
   "cell_type": "markdown",
   "id": "2fe2660d",
   "metadata": {},
   "source": [
    "# 3. References <a class=\"anchor\" id=\"References\"></a>"
   ]
  }
 ],
 "metadata": {
  "kernelspec": {
   "display_name": "mlexplore_venv",
   "language": "python",
   "name": "python3"
  },
  "language_info": {
   "name": "python",
   "version": "3.12.5"
  }
 },
 "nbformat": 4,
 "nbformat_minor": 5
}
